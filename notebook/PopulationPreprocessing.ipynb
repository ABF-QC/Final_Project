{
 "cells": [
  {
   "cell_type": "markdown",
   "id": "9fab19f5-2b93-482c-9c90-e2a54a726b48",
   "metadata": {},
   "source": [
    "---\n",
    "# \n",
    "---\n",
    "\n",
    "In this notebook, \n",
    "\n",
    "\n",
    "**Source :**\n",
    "https://fr.wikipedia.org/wiki/Montr%C3%A9al\n",
    "\n",
    "https://www.economie.gouv.qc.ca/pages-regionales/montreal/portrait-regional/demographie#:~:text=Population%20de%20Montr%C3%A9al%20(2023)%20%3A%202%20124%20865%20habitants\n",
    "\n",
    "\n",
    "Source : Institut de la statistique du Québec.\n",
    "          2021-2026\t  2026-2031\t  2031-2036\t  2036-2041\n",
    "Montréal\t5,2 %    \t-2,1 %\t    -0,1 %\t    0,0 %\n",
    "\n",
    "2026    2121100\n",
    "2031    2077000\n",
    "2026    2075600\n",
    "2041    2076700\n",
    "2046    2079700\n",
    "2051    2084400\n",
    "\n",
    "Prediction for the province population in 2071\n",
    "\n",
    "Weak Scenario : population 2051 -4%\n",
    "Moderate Scenario : population 2051 +6.5%\n",
    "High Scenario : population 2051 +15%\n",
    "\n",
    "Keeping population for 2099 same as 2071, but apply a polynomial of second degree interpolation to get a smooth curve."
   ]
  },
  {
   "cell_type": "markdown",
   "id": "d2b22778-0d78-43ef-bc99-b2eebfc49f5b",
   "metadata": {},
   "source": [
    "### Importing necessary libraries"
   ]
  },
  {
   "cell_type": "code",
   "execution_count": 1,
   "id": "f891ad3c-2a5a-4a4e-bf93-4c55e1ce006f",
   "metadata": {
    "execution": {
     "iopub.execute_input": "2025-04-02T20:23:04.128612Z",
     "iopub.status.busy": "2025-04-02T20:23:04.128076Z",
     "iopub.status.idle": "2025-04-02T20:23:05.101510Z",
     "shell.execute_reply": "2025-04-02T20:23:05.100565Z",
     "shell.execute_reply.started": "2025-04-02T20:23:04.128549Z"
    }
   },
   "outputs": [],
   "source": [
    "import os\n",
    "\n",
    "import pandas as pd\n",
    "import numpy as np\n",
    "\n",
    "import matplotlib.pyplot as plt"
   ]
  },
  {
   "cell_type": "markdown",
   "id": "bb575089-ce29-4266-bb0d-d821f892ee50",
   "metadata": {},
   "source": [
    "### Define files and variables"
   ]
  },
  {
   "cell_type": "code",
   "execution_count": 2,
   "id": "fb8de758-c84b-49e4-b06a-8bcfef29aa5a",
   "metadata": {
    "execution": {
     "iopub.execute_input": "2025-04-02T20:23:05.103570Z",
     "iopub.status.busy": "2025-04-02T20:23:05.103073Z",
     "iopub.status.idle": "2025-04-02T20:23:05.108931Z",
     "shell.execute_reply": "2025-04-02T20:23:05.107640Z",
     "shell.execute_reply.started": "2025-04-02T20:23:05.103526Z"
    }
   },
   "outputs": [],
   "source": [
    "data_dir = '../data/Population//'\n",
    "\n",
    "obs_fcst_file = 'Montreal.txt' # Spaces separated\n",
    "\n",
    "out_dir = '../data/Population/processed/'\n",
    "\n",
    "start_fcst = 2021\n",
    "end_year_fcst = 2099\n",
    "\n",
    "end_fcst_yul = 2051\n",
    "\n",
    "file_out = 'Montreal.csv'"
   ]
  },
  {
   "cell_type": "markdown",
   "id": "3bad44bf-8f04-456c-806f-49e877737d44",
   "metadata": {},
   "source": [
    "### Read data files"
   ]
  },
  {
   "cell_type": "code",
   "execution_count": 3,
   "id": "5669192c-b5bb-410f-bbba-e776309b6a1a",
   "metadata": {
    "execution": {
     "iopub.execute_input": "2025-04-02T20:23:05.110524Z",
     "iopub.status.busy": "2025-04-02T20:23:05.110005Z",
     "iopub.status.idle": "2025-04-02T20:23:05.155957Z",
     "shell.execute_reply": "2025-04-02T20:23:05.154977Z",
     "shell.execute_reply.started": "2025-04-02T20:23:05.110472Z"
    }
   },
   "outputs": [
    {
     "name": "stderr",
     "output_type": "stream",
     "text": [
      "<>:1: SyntaxWarning: invalid escape sequence '\\s'\n",
      "<>:1: SyntaxWarning: invalid escape sequence '\\s'\n",
      "/tmp/ipykernel_540211/129417253.py:1: SyntaxWarning: invalid escape sequence '\\s'\n",
      "  pop = pd.read_csv(os.path.join(data_dir, obs_fcst_file), sep='\\s+')\n"
     ]
    },
    {
     "data": {
      "text/html": [
       "<div>\n",
       "<style scoped>\n",
       "    .dataframe tbody tr th:only-of-type {\n",
       "        vertical-align: middle;\n",
       "    }\n",
       "\n",
       "    .dataframe tbody tr th {\n",
       "        vertical-align: top;\n",
       "    }\n",
       "\n",
       "    .dataframe thead th {\n",
       "        text-align: right;\n",
       "    }\n",
       "</style>\n",
       "<table border=\"1\" class=\"dataframe\">\n",
       "  <thead>\n",
       "    <tr style=\"text-align: right;\">\n",
       "      <th></th>\n",
       "      <th>Year</th>\n",
       "      <th>Population</th>\n",
       "    </tr>\n",
       "  </thead>\n",
       "  <tbody>\n",
       "    <tr>\n",
       "      <th>0</th>\n",
       "      <td>1801</td>\n",
       "      <td>9000</td>\n",
       "    </tr>\n",
       "    <tr>\n",
       "      <th>1</th>\n",
       "      <td>1811</td>\n",
       "      <td>13300</td>\n",
       "    </tr>\n",
       "    <tr>\n",
       "      <th>2</th>\n",
       "      <td>1821</td>\n",
       "      <td>18767</td>\n",
       "    </tr>\n",
       "    <tr>\n",
       "      <th>3</th>\n",
       "      <td>1831</td>\n",
       "      <td>27297</td>\n",
       "    </tr>\n",
       "    <tr>\n",
       "      <th>4</th>\n",
       "      <td>1841</td>\n",
       "      <td>40356</td>\n",
       "    </tr>\n",
       "    <tr>\n",
       "      <th>5</th>\n",
       "      <td>1851</td>\n",
       "      <td>57715</td>\n",
       "    </tr>\n",
       "    <tr>\n",
       "      <th>6</th>\n",
       "      <td>1861</td>\n",
       "      <td>90323</td>\n",
       "    </tr>\n",
       "    <tr>\n",
       "      <th>7</th>\n",
       "      <td>1871</td>\n",
       "      <td>130022</td>\n",
       "    </tr>\n",
       "    <tr>\n",
       "      <th>8</th>\n",
       "      <td>1881</td>\n",
       "      <td>176263</td>\n",
       "    </tr>\n",
       "    <tr>\n",
       "      <th>9</th>\n",
       "      <td>1891</td>\n",
       "      <td>254278</td>\n",
       "    </tr>\n",
       "    <tr>\n",
       "      <th>10</th>\n",
       "      <td>1901</td>\n",
       "      <td>325653</td>\n",
       "    </tr>\n",
       "    <tr>\n",
       "      <th>11</th>\n",
       "      <td>1911</td>\n",
       "      <td>490504</td>\n",
       "    </tr>\n",
       "    <tr>\n",
       "      <th>12</th>\n",
       "      <td>1921</td>\n",
       "      <td>618506</td>\n",
       "    </tr>\n",
       "    <tr>\n",
       "      <th>13</th>\n",
       "      <td>1931</td>\n",
       "      <td>818577</td>\n",
       "    </tr>\n",
       "    <tr>\n",
       "      <th>14</th>\n",
       "      <td>1941</td>\n",
       "      <td>903007</td>\n",
       "    </tr>\n",
       "    <tr>\n",
       "      <th>15</th>\n",
       "      <td>1951</td>\n",
       "      <td>1021559</td>\n",
       "    </tr>\n",
       "    <tr>\n",
       "      <th>16</th>\n",
       "      <td>1961</td>\n",
       "      <td>1201559</td>\n",
       "    </tr>\n",
       "    <tr>\n",
       "      <th>17</th>\n",
       "      <td>1971</td>\n",
       "      <td>1214352</td>\n",
       "    </tr>\n",
       "    <tr>\n",
       "      <th>18</th>\n",
       "      <td>1981</td>\n",
       "      <td>1018609</td>\n",
       "    </tr>\n",
       "    <tr>\n",
       "      <th>19</th>\n",
       "      <td>1991</td>\n",
       "      <td>1017666</td>\n",
       "    </tr>\n",
       "    <tr>\n",
       "      <th>20</th>\n",
       "      <td>1996</td>\n",
       "      <td>1016376</td>\n",
       "    </tr>\n",
       "    <tr>\n",
       "      <th>21</th>\n",
       "      <td>2001</td>\n",
       "      <td>1039534</td>\n",
       "    </tr>\n",
       "    <tr>\n",
       "      <th>22</th>\n",
       "      <td>2006</td>\n",
       "      <td>1620693</td>\n",
       "    </tr>\n",
       "    <tr>\n",
       "      <th>23</th>\n",
       "      <td>2011</td>\n",
       "      <td>1649519</td>\n",
       "    </tr>\n",
       "    <tr>\n",
       "      <th>24</th>\n",
       "      <td>2016</td>\n",
       "      <td>1704694</td>\n",
       "    </tr>\n",
       "    <tr>\n",
       "      <th>25</th>\n",
       "      <td>2021</td>\n",
       "      <td>1762949</td>\n",
       "    </tr>\n",
       "    <tr>\n",
       "      <th>26</th>\n",
       "      <td>2024</td>\n",
       "      <td>2200807</td>\n",
       "    </tr>\n",
       "    <tr>\n",
       "      <th>27</th>\n",
       "      <td>2026</td>\n",
       "      <td>2121100</td>\n",
       "    </tr>\n",
       "    <tr>\n",
       "      <th>28</th>\n",
       "      <td>2031</td>\n",
       "      <td>2077000</td>\n",
       "    </tr>\n",
       "    <tr>\n",
       "      <th>29</th>\n",
       "      <td>2036</td>\n",
       "      <td>2075600</td>\n",
       "    </tr>\n",
       "    <tr>\n",
       "      <th>30</th>\n",
       "      <td>2041</td>\n",
       "      <td>2076700</td>\n",
       "    </tr>\n",
       "    <tr>\n",
       "      <th>31</th>\n",
       "      <td>2046</td>\n",
       "      <td>2079700</td>\n",
       "    </tr>\n",
       "    <tr>\n",
       "      <th>32</th>\n",
       "      <td>2051</td>\n",
       "      <td>2084400</td>\n",
       "    </tr>\n",
       "    <tr>\n",
       "      <th>33</th>\n",
       "      <td>2071</td>\n",
       "      <td>2219886</td>\n",
       "    </tr>\n",
       "  </tbody>\n",
       "</table>\n",
       "</div>"
      ],
      "text/plain": [
       "    Year  Population\n",
       "0   1801        9000\n",
       "1   1811       13300\n",
       "2   1821       18767\n",
       "3   1831       27297\n",
       "4   1841       40356\n",
       "5   1851       57715\n",
       "6   1861       90323\n",
       "7   1871      130022\n",
       "8   1881      176263\n",
       "9   1891      254278\n",
       "10  1901      325653\n",
       "11  1911      490504\n",
       "12  1921      618506\n",
       "13  1931      818577\n",
       "14  1941      903007\n",
       "15  1951     1021559\n",
       "16  1961     1201559\n",
       "17  1971     1214352\n",
       "18  1981     1018609\n",
       "19  1991     1017666\n",
       "20  1996     1016376\n",
       "21  2001     1039534\n",
       "22  2006     1620693\n",
       "23  2011     1649519\n",
       "24  2016     1704694\n",
       "25  2021     1762949\n",
       "26  2024     2200807\n",
       "27  2026     2121100\n",
       "28  2031     2077000\n",
       "29  2036     2075600\n",
       "30  2041     2076700\n",
       "31  2046     2079700\n",
       "32  2051     2084400\n",
       "33  2071     2219886"
      ]
     },
     "execution_count": 3,
     "metadata": {},
     "output_type": "execute_result"
    }
   ],
   "source": [
    "pop = pd.read_csv(os.path.join(data_dir, obs_fcst_file), sep='\\s+')\n",
    "pop"
   ]
  },
  {
   "cell_type": "markdown",
   "id": "65582386-8b3f-4e19-aa62-51d72c0a161f",
   "metadata": {},
   "source": [
    "### Plot the data"
   ]
  },
  {
   "cell_type": "code",
   "execution_count": 4,
   "id": "49f5b965-2119-4bf4-80da-8cb20e1643b9",
   "metadata": {
    "execution": {
     "iopub.execute_input": "2025-04-02T20:23:05.158234Z",
     "iopub.status.busy": "2025-04-02T20:23:05.157727Z",
     "iopub.status.idle": "2025-04-02T20:23:05.496578Z",
     "shell.execute_reply": "2025-04-02T20:23:05.495486Z",
     "shell.execute_reply.started": "2025-04-02T20:23:05.158191Z"
    }
   },
   "outputs": [
    {
     "data": {
      "image/png": "[encoded data removed]",
      "text/plain": [
       "<Figure size 1400x600 with 1 Axes>"
      ]
     },
     "metadata": {},
     "output_type": "display_data"
    }
   ],
   "source": [
    "fig = plt.figure(figsize=(14,6))\n",
    "\n",
    "ax = plt.plot(pop[pop['Year'] < start_fcst]['Year'], pop[pop['Year'] < start_fcst]['Population'], label='obs 1801-2021')\n",
    "ax = plt.plot(pop[(pop['Year'] >= start_fcst) & (pop['Year'] <= end_fcst_yul)]['Year'], pop[(pop['Year'] >= start_fcst) & (pop['Year'] <= end_fcst_yul)]['Population'], label='fcst 2021-2052')\n",
    "ax = plt.plot(pop[pop['Year'] >= end_fcst_yul]['Year'], pop[pop['Year'] >= end_fcst_yul]['Population'], label='fcst 2051-2071')\n",
    "\n",
    "plt.title(\"Montreal's Population\")\n",
    "\n",
    "plt.legend()\n",
    "\n",
    "plt.show()"
   ]
  },
  {
   "cell_type": "code",
   "execution_count": null,
   "id": "b24f5b79-8315-41cc-b6ed-bd8705ca256a",
   "metadata": {},
   "outputs": [],
   "source": []
  },
  {
   "cell_type": "markdown",
   "id": "c215b92c-7935-4d5a-8acf-598042890a93",
   "metadata": {},
   "source": [
    "### Increase the population dataframe frequency to yearly and interpolate data"
   ]
  },
  {
   "cell_type": "code",
   "execution_count": 5,
   "id": "c3203244-a2f7-421f-baee-4ccc52690ad3",
   "metadata": {
    "execution": {
     "iopub.execute_input": "2025-04-02T20:23:05.498366Z",
     "iopub.status.busy": "2025-04-02T20:23:05.497931Z",
     "iopub.status.idle": "2025-04-02T20:23:05.921612Z",
     "shell.execute_reply": "2025-04-02T20:23:05.920221Z",
     "shell.execute_reply.started": "2025-04-02T20:23:05.498334Z"
    }
   },
   "outputs": [
    {
     "data": {
      "text/html": [
       "<div>\n",
       "<style scoped>\n",
       "    .dataframe tbody tr th:only-of-type {\n",
       "        vertical-align: middle;\n",
       "    }\n",
       "\n",
       "    .dataframe tbody tr th {\n",
       "        vertical-align: top;\n",
       "    }\n",
       "\n",
       "    .dataframe thead th {\n",
       "        text-align: right;\n",
       "    }\n",
       "</style>\n",
       "<table border=\"1\" class=\"dataframe\">\n",
       "  <thead>\n",
       "    <tr style=\"text-align: right;\">\n",
       "      <th></th>\n",
       "      <th>Population</th>\n",
       "    </tr>\n",
       "    <tr>\n",
       "      <th>Year</th>\n",
       "      <th></th>\n",
       "    </tr>\n",
       "  </thead>\n",
       "  <tbody>\n",
       "    <tr>\n",
       "      <th>1801-01-01</th>\n",
       "      <td>9.000000e+03</td>\n",
       "    </tr>\n",
       "    <tr>\n",
       "      <th>1802-01-01</th>\n",
       "      <td>9.389547e+03</td>\n",
       "    </tr>\n",
       "    <tr>\n",
       "      <th>1803-01-01</th>\n",
       "      <td>9.788026e+03</td>\n",
       "    </tr>\n",
       "    <tr>\n",
       "      <th>1804-01-01</th>\n",
       "      <td>1.019544e+04</td>\n",
       "    </tr>\n",
       "    <tr>\n",
       "      <th>1805-01-01</th>\n",
       "      <td>1.061293e+04</td>\n",
       "    </tr>\n",
       "    <tr>\n",
       "      <th>...</th>\n",
       "      <td>...</td>\n",
       "    </tr>\n",
       "    <tr>\n",
       "      <th>2067-01-01</th>\n",
       "      <td>2.177072e+06</td>\n",
       "    </tr>\n",
       "    <tr>\n",
       "      <th>2068-01-01</th>\n",
       "      <td>2.187032e+06</td>\n",
       "    </tr>\n",
       "    <tr>\n",
       "      <th>2069-01-01</th>\n",
       "      <td>2.197511e+06</td>\n",
       "    </tr>\n",
       "    <tr>\n",
       "      <th>2070-01-01</th>\n",
       "      <td>2.208454e+06</td>\n",
       "    </tr>\n",
       "    <tr>\n",
       "      <th>2071-01-01</th>\n",
       "      <td>2.219886e+06</td>\n",
       "    </tr>\n",
       "  </tbody>\n",
       "</table>\n",
       "<p>271 rows × 1 columns</p>\n",
       "</div>"
      ],
      "text/plain": [
       "              Population\n",
       "Year                    \n",
       "1801-01-01  9.000000e+03\n",
       "1802-01-01  9.389547e+03\n",
       "1803-01-01  9.788026e+03\n",
       "1804-01-01  1.019544e+04\n",
       "1805-01-01  1.061293e+04\n",
       "...                  ...\n",
       "2067-01-01  2.177072e+06\n",
       "2068-01-01  2.187032e+06\n",
       "2069-01-01  2.197511e+06\n",
       "2070-01-01  2.208454e+06\n",
       "2071-01-01  2.219886e+06\n",
       "\n",
       "[271 rows x 1 columns]"
      ]
     },
     "execution_count": 5,
     "metadata": {},
     "output_type": "execute_result"
    }
   ],
   "source": [
    "#fcst_weak = pd.concat([ obs_1984_2023.iloc[-1:], fcst_weak[fcst_weak.index >= pd.to_datetime(start_year_fcst, format='%Y')]])\n",
    "pop['Year'] = pd.to_datetime(pop['Year'], format=\"%Y\")\n",
    "pop.set_index('Year', inplace=True)\n",
    "\n",
    "pop = pop.resample('YS').interpolate(method='polynomial', order=2)\n",
    "pop"
   ]
  },
  {
   "cell_type": "code",
   "execution_count": 6,
   "id": "bdc2746c-aa67-4583-8d1d-63ae3656258a",
   "metadata": {
    "execution": {
     "iopub.execute_input": "2025-04-02T20:23:05.926132Z",
     "iopub.status.busy": "2025-04-02T20:23:05.925445Z",
     "iopub.status.idle": "2025-04-02T20:23:06.236901Z",
     "shell.execute_reply": "2025-04-02T20:23:06.234662Z",
     "shell.execute_reply.started": "2025-04-02T20:23:05.926088Z"
    }
   },
   "outputs": [
    {
     "data": {
      "image/png": "[encoded data removed]",
      "text/plain": [
       "<Figure size 1400x600 with 1 Axes>"
      ]
     },
     "metadata": {},
     "output_type": "display_data"
    }
   ],
   "source": [
    "fig = plt.figure(figsize=(14,6))\n",
    "\n",
    "ax = plt.plot(pop[pop.index <= pd.to_datetime(start_fcst, format=\"%Y\")].index, pop[pop.index <= pd.to_datetime(start_fcst, format=\"%Y\")]['Population'], label='obs 1801-2024')\n",
    "ax = plt.plot(pop[(pop.index >= pd.to_datetime(start_fcst, format=\"%Y\")) & (pop.index <= pd.to_datetime(end_fcst_yul, format=\"%Y\"))].index, pop[(pop.index >= pd.to_datetime(start_fcst, format=\"%Y\")) & (pop.index <= pd.to_datetime(end_fcst_yul, format=\"%Y\"))]['Population'], label='fcst 2024-2052')\n",
    "ax = plt.plot(pop[pop.index >= pd.to_datetime(end_fcst_yul, format=\"%Y\")].index, pop[pop.index >= pd.to_datetime(end_fcst_yul, format=\"%Y\")]['Population'], label='fcst 2051-2071')\n",
    "\n",
    "plt.title(\"Montreal's Population\")\n",
    "\n",
    "plt.legend()\n",
    "\n",
    "plt.show()"
   ]
  },
  {
   "cell_type": "markdown",
   "id": "86038b5d-d3af-435a-b728-6c7cb5b5f16f",
   "metadata": {},
   "source": [
    "### Interpolation the population up to 2099"
   ]
  },
  {
   "cell_type": "code",
   "execution_count": 7,
   "id": "8f97f8b8-356b-4d83-9a17-f1bb3c7694cc",
   "metadata": {
    "execution": {
     "iopub.execute_input": "2025-04-02T20:23:06.239080Z",
     "iopub.status.busy": "2025-04-02T20:23:06.238474Z",
     "iopub.status.idle": "2025-04-02T20:23:06.257381Z",
     "shell.execute_reply": "2025-04-02T20:23:06.255890Z",
     "shell.execute_reply.started": "2025-04-02T20:23:06.239034Z"
    }
   },
   "outputs": [],
   "source": [
    "new_range = pd.date_range(start=pop.index.min(), end =  pd.to_datetime(end_year_fcst, format=\"%Y\"), freq=\"YS\")\n",
    "pop = pop.reindex(new_range)"
   ]
  },
  {
   "cell_type": "code",
   "execution_count": 8,
   "id": "08cd2a73-9701-4b87-86d3-22c7db378a6a",
   "metadata": {
    "execution": {
     "iopub.execute_input": "2025-04-02T20:23:06.259239Z",
     "iopub.status.busy": "2025-04-02T20:23:06.258670Z",
     "iopub.status.idle": "2025-04-02T20:23:06.276292Z",
     "shell.execute_reply": "2025-04-02T20:23:06.275035Z",
     "shell.execute_reply.started": "2025-04-02T20:23:06.259194Z"
    }
   },
   "outputs": [
    {
     "data": {
      "text/html": [
       "<div>\n",
       "<style scoped>\n",
       "    .dataframe tbody tr th:only-of-type {\n",
       "        vertical-align: middle;\n",
       "    }\n",
       "\n",
       "    .dataframe tbody tr th {\n",
       "        vertical-align: top;\n",
       "    }\n",
       "\n",
       "    .dataframe thead th {\n",
       "        text-align: right;\n",
       "    }\n",
       "</style>\n",
       "<table border=\"1\" class=\"dataframe\">\n",
       "  <thead>\n",
       "    <tr style=\"text-align: right;\">\n",
       "      <th></th>\n",
       "      <th>Population</th>\n",
       "    </tr>\n",
       "  </thead>\n",
       "  <tbody>\n",
       "    <tr>\n",
       "      <th>1801-01-01</th>\n",
       "      <td>9.000000e+03</td>\n",
       "    </tr>\n",
       "    <tr>\n",
       "      <th>1802-01-01</th>\n",
       "      <td>9.389547e+03</td>\n",
       "    </tr>\n",
       "    <tr>\n",
       "      <th>1803-01-01</th>\n",
       "      <td>9.788026e+03</td>\n",
       "    </tr>\n",
       "    <tr>\n",
       "      <th>1804-01-01</th>\n",
       "      <td>1.019544e+04</td>\n",
       "    </tr>\n",
       "    <tr>\n",
       "      <th>1805-01-01</th>\n",
       "      <td>1.061293e+04</td>\n",
       "    </tr>\n",
       "    <tr>\n",
       "      <th>...</th>\n",
       "      <td>...</td>\n",
       "    </tr>\n",
       "    <tr>\n",
       "      <th>2095-01-01</th>\n",
       "      <td>NaN</td>\n",
       "    </tr>\n",
       "    <tr>\n",
       "      <th>2096-01-01</th>\n",
       "      <td>NaN</td>\n",
       "    </tr>\n",
       "    <tr>\n",
       "      <th>2097-01-01</th>\n",
       "      <td>NaN</td>\n",
       "    </tr>\n",
       "    <tr>\n",
       "      <th>2098-01-01</th>\n",
       "      <td>NaN</td>\n",
       "    </tr>\n",
       "    <tr>\n",
       "      <th>2099-01-01</th>\n",
       "      <td>2.219886e+06</td>\n",
       "    </tr>\n",
       "  </tbody>\n",
       "</table>\n",
       "<p>299 rows × 1 columns</p>\n",
       "</div>"
      ],
      "text/plain": [
       "              Population\n",
       "1801-01-01  9.000000e+03\n",
       "1802-01-01  9.389547e+03\n",
       "1803-01-01  9.788026e+03\n",
       "1804-01-01  1.019544e+04\n",
       "1805-01-01  1.061293e+04\n",
       "...                  ...\n",
       "2095-01-01           NaN\n",
       "2096-01-01           NaN\n",
       "2097-01-01           NaN\n",
       "2098-01-01           NaN\n",
       "2099-01-01  2.219886e+06\n",
       "\n",
       "[299 rows x 1 columns]"
      ]
     },
     "execution_count": 8,
     "metadata": {},
     "output_type": "execute_result"
    }
   ],
   "source": [
    "pop.iloc[-1] = pop[pop.index == pd.to_datetime(2071, format=\"%Y\")]\n",
    "pop"
   ]
  },
  {
   "cell_type": "code",
   "execution_count": 9,
   "id": "dcca8a1a-87fb-431a-a7ae-2bd8fbcbf846",
   "metadata": {
    "execution": {
     "iopub.execute_input": "2025-04-02T20:23:06.278298Z",
     "iopub.status.busy": "2025-04-02T20:23:06.277467Z",
     "iopub.status.idle": "2025-04-02T20:23:06.316288Z",
     "shell.execute_reply": "2025-04-02T20:23:06.315138Z",
     "shell.execute_reply.started": "2025-04-02T20:23:06.278267Z"
    }
   },
   "outputs": [
    {
     "data": {
      "text/html": [
       "<div>\n",
       "<style scoped>\n",
       "    .dataframe tbody tr th:only-of-type {\n",
       "        vertical-align: middle;\n",
       "    }\n",
       "\n",
       "    .dataframe tbody tr th {\n",
       "        vertical-align: top;\n",
       "    }\n",
       "\n",
       "    .dataframe thead th {\n",
       "        text-align: right;\n",
       "    }\n",
       "</style>\n",
       "<table border=\"1\" class=\"dataframe\">\n",
       "  <thead>\n",
       "    <tr style=\"text-align: right;\">\n",
       "      <th></th>\n",
       "      <th>Population</th>\n",
       "    </tr>\n",
       "  </thead>\n",
       "  <tbody>\n",
       "    <tr>\n",
       "      <th>1801-01-01</th>\n",
       "      <td>9.000000e+03</td>\n",
       "    </tr>\n",
       "    <tr>\n",
       "      <th>1802-01-01</th>\n",
       "      <td>9.389547e+03</td>\n",
       "    </tr>\n",
       "    <tr>\n",
       "      <th>1803-01-01</th>\n",
       "      <td>9.788026e+03</td>\n",
       "    </tr>\n",
       "    <tr>\n",
       "      <th>1804-01-01</th>\n",
       "      <td>1.019544e+04</td>\n",
       "    </tr>\n",
       "    <tr>\n",
       "      <th>1805-01-01</th>\n",
       "      <td>1.061293e+04</td>\n",
       "    </tr>\n",
       "    <tr>\n",
       "      <th>...</th>\n",
       "      <td>...</td>\n",
       "    </tr>\n",
       "    <tr>\n",
       "      <th>2095-01-01</th>\n",
       "      <td>2.258385e+06</td>\n",
       "    </tr>\n",
       "    <tr>\n",
       "      <th>2096-01-01</th>\n",
       "      <td>2.249969e+06</td>\n",
       "    </tr>\n",
       "    <tr>\n",
       "      <th>2097-01-01</th>\n",
       "      <td>2.240726e+06</td>\n",
       "    </tr>\n",
       "    <tr>\n",
       "      <th>2098-01-01</th>\n",
       "      <td>2.230707e+06</td>\n",
       "    </tr>\n",
       "    <tr>\n",
       "      <th>2099-01-01</th>\n",
       "      <td>2.219886e+06</td>\n",
       "    </tr>\n",
       "  </tbody>\n",
       "</table>\n",
       "<p>299 rows × 1 columns</p>\n",
       "</div>"
      ],
      "text/plain": [
       "              Population\n",
       "1801-01-01  9.000000e+03\n",
       "1802-01-01  9.389547e+03\n",
       "1803-01-01  9.788026e+03\n",
       "1804-01-01  1.019544e+04\n",
       "1805-01-01  1.061293e+04\n",
       "...                  ...\n",
       "2095-01-01  2.258385e+06\n",
       "2096-01-01  2.249969e+06\n",
       "2097-01-01  2.240726e+06\n",
       "2098-01-01  2.230707e+06\n",
       "2099-01-01  2.219886e+06\n",
       "\n",
       "[299 rows x 1 columns]"
      ]
     },
     "execution_count": 9,
     "metadata": {},
     "output_type": "execute_result"
    }
   ],
   "source": [
    "pop = pop.resample('YS').interpolate(method='polynomial', order=2)\n",
    "pop"
   ]
  },
  {
   "cell_type": "code",
   "execution_count": 10,
   "id": "03223e3c-8a7e-49c7-9949-27045c260941",
   "metadata": {
    "execution": {
     "iopub.execute_input": "2025-04-02T20:23:06.317805Z",
     "iopub.status.busy": "2025-04-02T20:23:06.317366Z",
     "iopub.status.idle": "2025-04-02T20:23:06.624558Z",
     "shell.execute_reply": "2025-04-02T20:23:06.623335Z",
     "shell.execute_reply.started": "2025-04-02T20:23:06.317761Z"
    }
   },
   "outputs": [
    {
     "data": {
      "image/png": "[encoded data removed]",
      "text/plain": [
       "<Figure size 1400x600 with 1 Axes>"
      ]
     },
     "metadata": {},
     "output_type": "display_data"
    }
   ],
   "source": [
    "fig = plt.figure(figsize=(14,6))\n",
    "\n",
    "ax = plt.plot(pop[pop.index <= pd.to_datetime(start_fcst, format=\"%Y\")].index, pop[pop.index <= pd.to_datetime(start_fcst, format=\"%Y\")]['Population'], label='obs 1801-2024')\n",
    "ax = plt.plot(pop[(pop.index >= pd.to_datetime(start_fcst, format=\"%Y\")) & (pop.index <= pd.to_datetime(end_fcst_yul, format=\"%Y\"))].index, pop[(pop.index >= pd.to_datetime(start_fcst, format=\"%Y\")) & (pop.index <= pd.to_datetime(end_fcst_yul, format=\"%Y\"))]['Population'], label='fcst 2024-2052')\n",
    "ax = plt.plot(pop[pop.index >= pd.to_datetime(end_fcst_yul, format=\"%Y\")].index, pop[pop.index >= pd.to_datetime(end_fcst_yul, format=\"%Y\")]['Population'], label='fcst 2051-2071')\n",
    "\n",
    "plt.title(\"Montreal's Population\")\n",
    "\n",
    "plt.legend()\n",
    "\n",
    "plt.show()"
   ]
  },
  {
   "cell_type": "markdown",
   "id": "ad74e9a3-7b03-4626-8fab-bf0f73610b89",
   "metadata": {},
   "source": [
    "### Write data to file"
   ]
  },
  {
   "cell_type": "code",
   "execution_count": 11,
   "id": "8ab65c04-a571-43d8-9a31-7067c9384a51",
   "metadata": {
    "execution": {
     "iopub.execute_input": "2025-04-02T20:23:06.627340Z",
     "iopub.status.busy": "2025-04-02T20:23:06.626266Z",
     "iopub.status.idle": "2025-04-02T20:23:06.640392Z",
     "shell.execute_reply": "2025-04-02T20:23:06.637802Z",
     "shell.execute_reply.started": "2025-04-02T20:23:06.627281Z"
    }
   },
   "outputs": [],
   "source": [
    "pop.to_csv(os.path.join(out_dir, file_out))"
   ]
  }
 ],
 "metadata": {
  "kernelspec": {
   "display_name": "climate-proj",
   "language": "python",
   "name": "climate-proj"
  },
  "language_info": {
   "codemirror_mode": {
    "name": "ipython",
    "version": 3
   },
   "file_extension": ".py",
   "mimetype": "text/x-python",
   "name": "python",
   "nbconvert_exporter": "python",
   "pygments_lexer": "ipython3",
   "version": "3.12.7"
  }
 },
 "nbformat": 4,
 "nbformat_minor": 5
}
