{
 "cells": [
  {
   "cell_type": "markdown",
   "id": "2f55f444-907b-4314-af26-f042841b37a5",
   "metadata": {},
   "source": [
    "---\n",
    "# Carbon Dioxide Pre-processing\n",
    "---\n",
    "\n",
    "In this notebook, we will read various dataset of global carbon dioxide concentration that differ in observation frequency. The dataset will be combined together and will be interpolated to a yearly frequency where needed.\n",
    "\n",
    "1. Read the data files\n",
    "2. Plot the data to see how the concentration in the overlapping time period could be merged into one single observation dataframe.\n",
    "  - From the plot, we can see that the observations and the various predictions can be combined with an interpolation with a polynomial of second degree between the end of the observation period up to 2040.\n",
    "  - From the plot, we can see that for the overlapping observations priod there is no need for any interpolation, since there is no discontinuity between the two observation dataset.\n",
    "4. Performing the interpolation to create a continuous line for the carbon dioxide concentration from 1850 to 2099.\n",
    "5. Making sure that the results match well the uninterpolated dataset.\n",
    "6. Writing the results to files\n",
    "\n",
    "\n",
    "**Source :**\n",
    "\n",
    "https://sealevel.info/co2_and_ch4.html\n",
    "\n",
    "**Carbon Dioxide**\n",
    "\n",
    "https://data.giss.nasa.gov/modelforce/ghgases/Fig1A.ext.txt\n",
    "\n",
    "https://gml.noaa.gov/webdata/ccgg/trends/co2/co2_annmean_mlo.txt\n",
    "\n",
    "\n",
    "**Forecast:**\n",
    "https://gmd.copernicus.org/articles/13/3571/2020/\n",
    "\n",
    "https://greenhousegases.science.unimelb.edu.au/#!/view\n",
    "\n"
   ]
  },
  {
   "cell_type": "markdown",
   "id": "edfd1ee2-db35-43b5-bd16-40cbd7540bb1",
   "metadata": {},
   "source": [
    "### Importing necessary libraries"
   ]
  },
  {
   "cell_type": "code",
   "execution_count": 1,
   "id": "64dcd902-8cd0-4278-a289-d96df8726a85",
   "metadata": {
    "execution": {
     "iopub.execute_input": "2025-04-08T18:29:08.006230Z",
     "iopub.status.busy": "2025-04-08T18:29:08.005620Z",
     "iopub.status.idle": "2025-04-08T18:29:09.440189Z",
     "shell.execute_reply": "2025-04-08T18:29:09.439285Z",
     "shell.execute_reply.started": "2025-04-08T18:29:08.006178Z"
    }
   },
   "outputs": [],
   "source": [
    "import os\n",
    "\n",
    "import pandas as pd\n",
    "import numpy as np\n",
    "\n",
    "import matplotlib.pyplot as plt"
   ]
  },
  {
   "cell_type": "markdown",
   "id": "4c0b266c-0a90-4998-b5cb-9a2ce190d320",
   "metadata": {},
   "source": [
    "### Define files and variables"
   ]
  },
  {
   "cell_type": "code",
   "execution_count": 2,
   "id": "18c5e698-6330-4f5c-abf8-01766ae5c62e",
   "metadata": {
    "execution": {
     "iopub.execute_input": "2025-04-08T18:29:09.441999Z",
     "iopub.status.busy": "2025-04-08T18:29:09.441333Z",
     "iopub.status.idle": "2025-04-08T18:29:09.455044Z",
     "shell.execute_reply": "2025-04-08T18:29:09.451562Z",
     "shell.execute_reply.started": "2025-04-08T18:29:09.441948Z"
    }
   },
   "outputs": [],
   "source": [
    "data_dir = '../data/GreenHouse_Gases/'\n",
    "\n",
    "data_1850_2011 = 'co2_1850-2011.txt' # Tab separated\n",
    "\n",
    "data_1959_2024 = 'co2_annmean_mlo_1959-2024.txt' # Spaces separated\n",
    "\n",
    "out_dir = '../data/GreenHouse_Gases/processed/'\n",
    "\n",
    "file_out_weak = 'co2_1850-2099_SSP4_34.csv'\n",
    "file_out_mod = 'co2_1850-2099_SSP2_45.csv'\n",
    "file_out_high = 'co2_1850-2099_SSP4_60.csv'\n",
    "file_out_xtrm = 'co2_1850-2099_SSP5_85.csv'\n",
    "\n",
    "start_year_fcst = 2040\n",
    "end_year_fcst = 2099\n",
    "\n",
    "file_fcst_weak = '../data/GreenHouse_Gases/SSP4-34_WeakScenario.xlsx'\n",
    "file_fcst_mod = '../data/GreenHouse_Gases/SSP2-4.5_ModerateScenario.xlsx'\n",
    "file_fcst_high = '../data/GreenHouse_Gases/SSP4-6.0_HighScenario.xlsx'\n",
    "file_fcst_xtrm = '../data/GreenHouse_Gases/SSP5-8.5_ExtremeScenario.xlsx'"
   ]
  },
  {
   "cell_type": "markdown",
   "id": "703a22d6-fdcc-4dfa-abcc-09fef92c755f",
   "metadata": {},
   "source": [
    "### Read data files"
   ]
  },
  {
   "cell_type": "code",
   "execution_count": 3,
   "id": "a520ceb3-155b-45be-83d9-c22f4c2e948f",
   "metadata": {
    "execution": {
     "iopub.execute_input": "2025-04-08T18:29:09.458059Z",
     "iopub.status.busy": "2025-04-08T18:29:09.457528Z",
     "iopub.status.idle": "2025-04-08T18:29:09.852575Z",
     "shell.execute_reply": "2025-04-08T18:29:09.850401Z",
     "shell.execute_reply.started": "2025-04-08T18:29:09.458016Z"
    }
   },
   "outputs": [
    {
     "data": {
      "text/html": [
       "<div>\n",
       "<style scoped>\n",
       "    .dataframe tbody tr th:only-of-type {\n",
       "        vertical-align: middle;\n",
       "    }\n",
       "\n",
       "    .dataframe tbody tr th {\n",
       "        vertical-align: top;\n",
       "    }\n",
       "\n",
       "    .dataframe thead th {\n",
       "        text-align: right;\n",
       "    }\n",
       "</style>\n",
       "<table border=\"1\" class=\"dataframe\">\n",
       "  <thead>\n",
       "    <tr style=\"text-align: right;\">\n",
       "      <th></th>\n",
       "      <th>CO2</th>\n",
       "    </tr>\n",
       "    <tr>\n",
       "      <th>Year</th>\n",
       "      <th></th>\n",
       "    </tr>\n",
       "  </thead>\n",
       "  <tbody>\n",
       "    <tr>\n",
       "      <th>2015-01-01</th>\n",
       "      <td>399.949310</td>\n",
       "    </tr>\n",
       "    <tr>\n",
       "      <th>2016-01-01</th>\n",
       "      <td>403.116974</td>\n",
       "    </tr>\n",
       "    <tr>\n",
       "      <th>2017-01-01</th>\n",
       "      <td>405.742950</td>\n",
       "    </tr>\n",
       "    <tr>\n",
       "      <th>2018-01-01</th>\n",
       "      <td>408.556976</td>\n",
       "    </tr>\n",
       "    <tr>\n",
       "      <th>2019-01-01</th>\n",
       "      <td>411.339966</td>\n",
       "    </tr>\n",
       "    <tr>\n",
       "      <th>...</th>\n",
       "      <td>...</td>\n",
       "    </tr>\n",
       "    <tr>\n",
       "      <th>2095-01-01</th>\n",
       "      <td>480.464020</td>\n",
       "    </tr>\n",
       "    <tr>\n",
       "      <th>2096-01-01</th>\n",
       "      <td>479.184021</td>\n",
       "    </tr>\n",
       "    <tr>\n",
       "      <th>2097-01-01</th>\n",
       "      <td>477.835022</td>\n",
       "    </tr>\n",
       "    <tr>\n",
       "      <th>2098-01-01</th>\n",
       "      <td>476.418030</td>\n",
       "    </tr>\n",
       "    <tr>\n",
       "      <th>2099-01-01</th>\n",
       "      <td>474.933014</td>\n",
       "    </tr>\n",
       "  </tbody>\n",
       "</table>\n",
       "<p>85 rows × 1 columns</p>\n",
       "</div>"
      ],
      "text/plain": [
       "                   CO2\n",
       "Year                  \n",
       "2015-01-01  399.949310\n",
       "2016-01-01  403.116974\n",
       "2017-01-01  405.742950\n",
       "2018-01-01  408.556976\n",
       "2019-01-01  411.339966\n",
       "...                ...\n",
       "2095-01-01  480.464020\n",
       "2096-01-01  479.184021\n",
       "2097-01-01  477.835022\n",
       "2098-01-01  476.418030\n",
       "2099-01-01  474.933014\n",
       "\n",
       "[85 rows x 1 columns]"
      ]
     },
     "execution_count": 3,
     "metadata": {},
     "output_type": "execute_result"
    }
   ],
   "source": [
    "fcst_weak = pd.read_excel(file_fcst_weak, skiprows=10)\n",
    "\n",
    "fcst_weak = fcst_weak[fcst_weak['Year'] <= end_year_fcst]\n",
    "fcst_weak['Year'] = pd.to_datetime(fcst_weak['Year'], format=\"%Y\")\n",
    "fcst_weak.drop(columns=['CH4'], inplace=True)\n",
    "fcst_weak.set_index('Year', inplace=True)\n",
    "fcst_weak"
   ]
  },
  {
   "cell_type": "code",
   "execution_count": 4,
   "id": "cb4267c9-1968-4533-9f2f-3949b2b1e0a7",
   "metadata": {
    "execution": {
     "iopub.execute_input": "2025-04-08T18:29:09.855370Z",
     "iopub.status.busy": "2025-04-08T18:29:09.854352Z",
     "iopub.status.idle": "2025-04-08T18:29:10.096534Z",
     "shell.execute_reply": "2025-04-08T18:29:10.094676Z",
     "shell.execute_reply.started": "2025-04-08T18:29:09.855321Z"
    }
   },
   "outputs": [
    {
     "data": {
      "text/html": [
       "<div>\n",
       "<style scoped>\n",
       "    .dataframe tbody tr th:only-of-type {\n",
       "        vertical-align: middle;\n",
       "    }\n",
       "\n",
       "    .dataframe tbody tr th {\n",
       "        vertical-align: top;\n",
       "    }\n",
       "\n",
       "    .dataframe thead th {\n",
       "        text-align: right;\n",
       "    }\n",
       "</style>\n",
       "<table border=\"1\" class=\"dataframe\">\n",
       "  <thead>\n",
       "    <tr style=\"text-align: right;\">\n",
       "      <th></th>\n",
       "      <th>CO2</th>\n",
       "    </tr>\n",
       "    <tr>\n",
       "      <th>Year</th>\n",
       "      <th></th>\n",
       "    </tr>\n",
       "  </thead>\n",
       "  <tbody>\n",
       "    <tr>\n",
       "      <th>2015-01-01</th>\n",
       "      <td>399.949097</td>\n",
       "    </tr>\n",
       "    <tr>\n",
       "      <th>2016-01-01</th>\n",
       "      <td>403.116974</td>\n",
       "    </tr>\n",
       "    <tr>\n",
       "      <th>2017-01-01</th>\n",
       "      <td>405.761963</td>\n",
       "    </tr>\n",
       "    <tr>\n",
       "      <th>2018-01-01</th>\n",
       "      <td>408.631958</td>\n",
       "    </tr>\n",
       "    <tr>\n",
       "      <th>2019-01-01</th>\n",
       "      <td>411.505951</td>\n",
       "    </tr>\n",
       "    <tr>\n",
       "      <th>...</th>\n",
       "      <td>...</td>\n",
       "    </tr>\n",
       "    <tr>\n",
       "      <th>2095-01-01</th>\n",
       "      <td>600.885986</td>\n",
       "    </tr>\n",
       "    <tr>\n",
       "      <th>2096-01-01</th>\n",
       "      <td>601.365967</td>\n",
       "    </tr>\n",
       "    <tr>\n",
       "      <th>2097-01-01</th>\n",
       "      <td>601.796997</td>\n",
       "    </tr>\n",
       "    <tr>\n",
       "      <th>2098-01-01</th>\n",
       "      <td>602.177002</td>\n",
       "    </tr>\n",
       "    <tr>\n",
       "      <th>2099-01-01</th>\n",
       "      <td>602.505005</td>\n",
       "    </tr>\n",
       "  </tbody>\n",
       "</table>\n",
       "<p>85 rows × 1 columns</p>\n",
       "</div>"
      ],
      "text/plain": [
       "                   CO2\n",
       "Year                  \n",
       "2015-01-01  399.949097\n",
       "2016-01-01  403.116974\n",
       "2017-01-01  405.761963\n",
       "2018-01-01  408.631958\n",
       "2019-01-01  411.505951\n",
       "...                ...\n",
       "2095-01-01  600.885986\n",
       "2096-01-01  601.365967\n",
       "2097-01-01  601.796997\n",
       "2098-01-01  602.177002\n",
       "2099-01-01  602.505005\n",
       "\n",
       "[85 rows x 1 columns]"
      ]
     },
     "execution_count": 4,
     "metadata": {},
     "output_type": "execute_result"
    }
   ],
   "source": [
    "fcst_mod = pd.read_excel(file_fcst_mod, skiprows=10)\n",
    "\n",
    "fcst_mod = fcst_mod[fcst_mod['Year'] <= end_year_fcst]\n",
    "fcst_mod['Year'] = pd.to_datetime(fcst_mod['Year'], format=\"%Y\")\n",
    "fcst_mod.drop(columns=['CH4'], inplace=True)\n",
    "fcst_mod.set_index('Year', inplace=True)\n",
    "fcst_mod"
   ]
  },
  {
   "cell_type": "code",
   "execution_count": 5,
   "id": "0027c053-87bc-4495-a775-333d5c9b0e1f",
   "metadata": {
    "execution": {
     "iopub.execute_input": "2025-04-08T18:29:10.098438Z",
     "iopub.status.busy": "2025-04-08T18:29:10.098017Z",
     "iopub.status.idle": "2025-04-08T18:29:10.211664Z",
     "shell.execute_reply": "2025-04-08T18:29:10.210555Z",
     "shell.execute_reply.started": "2025-04-08T18:29:10.098406Z"
    }
   },
   "outputs": [
    {
     "data": {
      "text/html": [
       "<div>\n",
       "<style scoped>\n",
       "    .dataframe tbody tr th:only-of-type {\n",
       "        vertical-align: middle;\n",
       "    }\n",
       "\n",
       "    .dataframe tbody tr th {\n",
       "        vertical-align: top;\n",
       "    }\n",
       "\n",
       "    .dataframe thead th {\n",
       "        text-align: right;\n",
       "    }\n",
       "</style>\n",
       "<table border=\"1\" class=\"dataframe\">\n",
       "  <thead>\n",
       "    <tr style=\"text-align: right;\">\n",
       "      <th></th>\n",
       "      <th>CO2</th>\n",
       "    </tr>\n",
       "    <tr>\n",
       "      <th>Year</th>\n",
       "      <th></th>\n",
       "    </tr>\n",
       "  </thead>\n",
       "  <tbody>\n",
       "    <tr>\n",
       "      <th>2015-01-01</th>\n",
       "      <td>399.949402</td>\n",
       "    </tr>\n",
       "    <tr>\n",
       "      <th>2016-01-01</th>\n",
       "      <td>403.116974</td>\n",
       "    </tr>\n",
       "    <tr>\n",
       "      <th>2017-01-01</th>\n",
       "      <td>405.742950</td>\n",
       "    </tr>\n",
       "    <tr>\n",
       "      <th>2018-01-01</th>\n",
       "      <td>408.556976</td>\n",
       "    </tr>\n",
       "    <tr>\n",
       "      <th>2019-01-01</th>\n",
       "      <td>411.339966</td>\n",
       "    </tr>\n",
       "    <tr>\n",
       "      <th>...</th>\n",
       "      <td>...</td>\n",
       "    </tr>\n",
       "    <tr>\n",
       "      <th>2095-01-01</th>\n",
       "      <td>659.567993</td>\n",
       "    </tr>\n",
       "    <tr>\n",
       "      <th>2096-01-01</th>\n",
       "      <td>661.474976</td>\n",
       "    </tr>\n",
       "    <tr>\n",
       "      <th>2097-01-01</th>\n",
       "      <td>663.311951</td>\n",
       "    </tr>\n",
       "    <tr>\n",
       "      <th>2098-01-01</th>\n",
       "      <td>665.078979</td>\n",
       "    </tr>\n",
       "    <tr>\n",
       "      <th>2099-01-01</th>\n",
       "      <td>666.776978</td>\n",
       "    </tr>\n",
       "  </tbody>\n",
       "</table>\n",
       "<p>85 rows × 1 columns</p>\n",
       "</div>"
      ],
      "text/plain": [
       "                   CO2\n",
       "Year                  \n",
       "2015-01-01  399.949402\n",
       "2016-01-01  403.116974\n",
       "2017-01-01  405.742950\n",
       "2018-01-01  408.556976\n",
       "2019-01-01  411.339966\n",
       "...                ...\n",
       "2095-01-01  659.567993\n",
       "2096-01-01  661.474976\n",
       "2097-01-01  663.311951\n",
       "2098-01-01  665.078979\n",
       "2099-01-01  666.776978\n",
       "\n",
       "[85 rows x 1 columns]"
      ]
     },
     "execution_count": 5,
     "metadata": {},
     "output_type": "execute_result"
    }
   ],
   "source": [
    "fcst_high = pd.read_excel(file_fcst_high, skiprows=10)\n",
    "\n",
    "fcst_high = fcst_high[fcst_high['Year'] <= end_year_fcst]\n",
    "fcst_high['Year'] = pd.to_datetime(fcst_high['Year'], format=\"%Y\")\n",
    "fcst_high.drop(columns=['CH4'], inplace=True)\n",
    "fcst_high.set_index('Year', inplace=True)\n",
    "fcst_high"
   ]
  },
  {
   "cell_type": "code",
   "execution_count": 6,
   "id": "f394d0bb-cb5f-4938-beaf-03a047ba2503",
   "metadata": {
    "execution": {
     "iopub.execute_input": "2025-04-08T18:29:10.216270Z",
     "iopub.status.busy": "2025-04-08T18:29:10.215747Z",
     "iopub.status.idle": "2025-04-08T18:29:10.333502Z",
     "shell.execute_reply": "2025-04-08T18:29:10.331642Z",
     "shell.execute_reply.started": "2025-04-08T18:29:10.216220Z"
    }
   },
   "outputs": [
    {
     "data": {
      "text/html": [
       "<div>\n",
       "<style scoped>\n",
       "    .dataframe tbody tr th:only-of-type {\n",
       "        vertical-align: middle;\n",
       "    }\n",
       "\n",
       "    .dataframe tbody tr th {\n",
       "        vertical-align: top;\n",
       "    }\n",
       "\n",
       "    .dataframe thead th {\n",
       "        text-align: right;\n",
       "    }\n",
       "</style>\n",
       "<table border=\"1\" class=\"dataframe\">\n",
       "  <thead>\n",
       "    <tr style=\"text-align: right;\">\n",
       "      <th></th>\n",
       "      <th>CO2</th>\n",
       "    </tr>\n",
       "    <tr>\n",
       "      <th>Year</th>\n",
       "      <th></th>\n",
       "    </tr>\n",
       "  </thead>\n",
       "  <tbody>\n",
       "    <tr>\n",
       "      <th>2015-01-01</th>\n",
       "      <td>399.948792</td>\n",
       "    </tr>\n",
       "    <tr>\n",
       "      <th>2016-01-01</th>\n",
       "      <td>403.116974</td>\n",
       "    </tr>\n",
       "    <tr>\n",
       "      <th>2017-01-01</th>\n",
       "      <td>405.793976</td>\n",
       "    </tr>\n",
       "    <tr>\n",
       "      <th>2018-01-01</th>\n",
       "      <td>408.759949</td>\n",
       "    </tr>\n",
       "    <tr>\n",
       "      <th>2019-01-01</th>\n",
       "      <td>411.789948</td>\n",
       "    </tr>\n",
       "    <tr>\n",
       "      <th>...</th>\n",
       "      <td>...</td>\n",
       "    </tr>\n",
       "    <tr>\n",
       "      <th>2095-01-01</th>\n",
       "      <td>1066.849854</td>\n",
       "    </tr>\n",
       "    <tr>\n",
       "      <th>2096-01-01</th>\n",
       "      <td>1080.529907</td>\n",
       "    </tr>\n",
       "    <tr>\n",
       "      <th>2097-01-01</th>\n",
       "      <td>1094.209839</td>\n",
       "    </tr>\n",
       "    <tr>\n",
       "      <th>2098-01-01</th>\n",
       "      <td>1107.889893</td>\n",
       "    </tr>\n",
       "    <tr>\n",
       "      <th>2099-01-01</th>\n",
       "      <td>1121.549927</td>\n",
       "    </tr>\n",
       "  </tbody>\n",
       "</table>\n",
       "<p>85 rows × 1 columns</p>\n",
       "</div>"
      ],
      "text/plain": [
       "                    CO2\n",
       "Year                   \n",
       "2015-01-01   399.948792\n",
       "2016-01-01   403.116974\n",
       "2017-01-01   405.793976\n",
       "2018-01-01   408.759949\n",
       "2019-01-01   411.789948\n",
       "...                 ...\n",
       "2095-01-01  1066.849854\n",
       "2096-01-01  1080.529907\n",
       "2097-01-01  1094.209839\n",
       "2098-01-01  1107.889893\n",
       "2099-01-01  1121.549927\n",
       "\n",
       "[85 rows x 1 columns]"
      ]
     },
     "execution_count": 6,
     "metadata": {},
     "output_type": "execute_result"
    }
   ],
   "source": [
    "fcst_xtrm = pd.read_excel(file_fcst_xtrm, skiprows=10)\n",
    "\n",
    "fcst_xtrm = fcst_xtrm[fcst_xtrm['Year'] <= end_year_fcst]\n",
    "fcst_xtrm['Year'] = pd.to_datetime(fcst_xtrm['Year'], format=\"%Y\")\n",
    "fcst_xtrm.drop(columns=['CH4'], inplace=True)\n",
    "fcst_xtrm.set_index('Year', inplace=True)\n",
    "fcst_xtrm"
   ]
  },
  {
   "cell_type": "code",
   "execution_count": 7,
   "id": "bca4666c-a3c0-4ccd-b976-748975040946",
   "metadata": {
    "execution": {
     "iopub.execute_input": "2025-04-08T18:29:10.335084Z",
     "iopub.status.busy": "2025-04-08T18:29:10.334739Z",
     "iopub.status.idle": "2025-04-08T18:29:10.358087Z",
     "shell.execute_reply": "2025-04-08T18:29:10.357014Z",
     "shell.execute_reply.started": "2025-04-08T18:29:10.335054Z"
    }
   },
   "outputs": [
    {
     "data": {
      "text/html": [
       "<div>\n",
       "<style scoped>\n",
       "    .dataframe tbody tr th:only-of-type {\n",
       "        vertical-align: middle;\n",
       "    }\n",
       "\n",
       "    .dataframe tbody tr th {\n",
       "        vertical-align: top;\n",
       "    }\n",
       "\n",
       "    .dataframe thead th {\n",
       "        text-align: right;\n",
       "    }\n",
       "</style>\n",
       "<table border=\"1\" class=\"dataframe\">\n",
       "  <thead>\n",
       "    <tr style=\"text-align: right;\">\n",
       "      <th></th>\n",
       "      <th>Data Source</th>\n",
       "      <th>CO2</th>\n",
       "    </tr>\n",
       "    <tr>\n",
       "      <th>Year</th>\n",
       "      <th></th>\n",
       "      <th></th>\n",
       "    </tr>\n",
       "  </thead>\n",
       "  <tbody>\n",
       "    <tr>\n",
       "      <th>1850-01-01</th>\n",
       "      <td>Ice-Core Data Adjusted for Global Mean</td>\n",
       "      <td>285.20</td>\n",
       "    </tr>\n",
       "    <tr>\n",
       "      <th>1851-01-01</th>\n",
       "      <td>Ice-Core Data Adjusted for Global Mean</td>\n",
       "      <td>285.10</td>\n",
       "    </tr>\n",
       "    <tr>\n",
       "      <th>1852-01-01</th>\n",
       "      <td>Ice-Core Data Adjusted for Global Mean</td>\n",
       "      <td>285.00</td>\n",
       "    </tr>\n",
       "    <tr>\n",
       "      <th>1853-01-01</th>\n",
       "      <td>Ice-Core Data Adjusted for Global Mean</td>\n",
       "      <td>285.00</td>\n",
       "    </tr>\n",
       "    <tr>\n",
       "      <th>1854-01-01</th>\n",
       "      <td>Ice-Core Data Adjusted for Global Mean</td>\n",
       "      <td>284.90</td>\n",
       "    </tr>\n",
       "    <tr>\n",
       "      <th>...</th>\n",
       "      <td>...</td>\n",
       "      <td>...</td>\n",
       "    </tr>\n",
       "    <tr>\n",
       "      <th>2007-01-01</th>\n",
       "      <td>NOAA/ESRL trends change added to 2003 data</td>\n",
       "      <td>383.37</td>\n",
       "    </tr>\n",
       "    <tr>\n",
       "      <th>2008-01-01</th>\n",
       "      <td>NOAA/ESRL trends change added to 2003 data</td>\n",
       "      <td>385.46</td>\n",
       "    </tr>\n",
       "    <tr>\n",
       "      <th>2009-01-01</th>\n",
       "      <td>NOAA/ESRL trends change added to 2003 data</td>\n",
       "      <td>386.95</td>\n",
       "    </tr>\n",
       "    <tr>\n",
       "      <th>2010-01-01</th>\n",
       "      <td>NOAA/ESRL trends change added to 2003 data</td>\n",
       "      <td>389.21</td>\n",
       "    </tr>\n",
       "    <tr>\n",
       "      <th>2011-01-01</th>\n",
       "      <td>NOAA/ESRL trends change added to 2003 data</td>\n",
       "      <td>391.15</td>\n",
       "    </tr>\n",
       "  </tbody>\n",
       "</table>\n",
       "<p>162 rows × 2 columns</p>\n",
       "</div>"
      ],
      "text/plain": [
       "                                           Data Source     CO2\n",
       "Year                                                          \n",
       "1850-01-01      Ice-Core Data Adjusted for Global Mean  285.20\n",
       "1851-01-01      Ice-Core Data Adjusted for Global Mean  285.10\n",
       "1852-01-01      Ice-Core Data Adjusted for Global Mean  285.00\n",
       "1853-01-01      Ice-Core Data Adjusted for Global Mean  285.00\n",
       "1854-01-01      Ice-Core Data Adjusted for Global Mean  284.90\n",
       "...                                                ...     ...\n",
       "2007-01-01  NOAA/ESRL trends change added to 2003 data  383.37\n",
       "2008-01-01  NOAA/ESRL trends change added to 2003 data  385.46\n",
       "2009-01-01  NOAA/ESRL trends change added to 2003 data  386.95\n",
       "2010-01-01  NOAA/ESRL trends change added to 2003 data  389.21\n",
       "2011-01-01  NOAA/ESRL trends change added to 2003 data  391.15\n",
       "\n",
       "[162 rows x 2 columns]"
      ]
     },
     "execution_count": 7,
     "metadata": {},
     "output_type": "execute_result"
    }
   ],
   "source": [
    "obs_1850_2011 = pd.read_csv(os.path.join(data_dir, data_1850_2011), sep='\\t', skiprows=2)\n",
    "\n",
    "obs_1850_2011['Year'] = pd.to_datetime(obs_1850_2011['Year'],  format=\"%Y\")\n",
    "obs_1850_2011.set_index('Year', inplace=True)\n",
    "obs_1850_2011.rename(columns={'MixR':'CO2'}, inplace=True)\n",
    "\n",
    "obs_1850_2011"
   ]
  },
  {
   "cell_type": "code",
   "execution_count": 8,
   "id": "5eba5b4e-8ac7-4ef8-aa27-8b37153892cc",
   "metadata": {
    "execution": {
     "iopub.execute_input": "2025-04-08T18:29:10.360758Z",
     "iopub.status.busy": "2025-04-08T18:29:10.359268Z",
     "iopub.status.idle": "2025-04-08T18:29:10.388898Z",
     "shell.execute_reply": "2025-04-08T18:29:10.387615Z",
     "shell.execute_reply.started": "2025-04-08T18:29:10.360706Z"
    }
   },
   "outputs": [
    {
     "name": "stderr",
     "output_type": "stream",
     "text": [
      "<>:1: SyntaxWarning: invalid escape sequence '\\s'\n",
      "<>:1: SyntaxWarning: invalid escape sequence '\\s'\n",
      "/tmp/ipykernel_1547007/951253274.py:1: SyntaxWarning: invalid escape sequence '\\s'\n",
      "  obs_1959_2024 = pd.read_csv(os.path.join(data_dir, data_1959_2024), sep='\\s+', skiprows=44)\n"
     ]
    },
    {
     "data": {
      "text/html": [
       "<div>\n",
       "<style scoped>\n",
       "    .dataframe tbody tr th:only-of-type {\n",
       "        vertical-align: middle;\n",
       "    }\n",
       "\n",
       "    .dataframe tbody tr th {\n",
       "        vertical-align: top;\n",
       "    }\n",
       "\n",
       "    .dataframe thead th {\n",
       "        text-align: right;\n",
       "    }\n",
       "</style>\n",
       "<table border=\"1\" class=\"dataframe\">\n",
       "  <thead>\n",
       "    <tr style=\"text-align: right;\">\n",
       "      <th></th>\n",
       "      <th>CO2</th>\n",
       "    </tr>\n",
       "    <tr>\n",
       "      <th>Year</th>\n",
       "      <th></th>\n",
       "    </tr>\n",
       "  </thead>\n",
       "  <tbody>\n",
       "    <tr>\n",
       "      <th>1959-01-01</th>\n",
       "      <td>315.98</td>\n",
       "    </tr>\n",
       "    <tr>\n",
       "      <th>1960-01-01</th>\n",
       "      <td>316.91</td>\n",
       "    </tr>\n",
       "    <tr>\n",
       "      <th>1961-01-01</th>\n",
       "      <td>317.64</td>\n",
       "    </tr>\n",
       "    <tr>\n",
       "      <th>1962-01-01</th>\n",
       "      <td>318.45</td>\n",
       "    </tr>\n",
       "    <tr>\n",
       "      <th>1963-01-01</th>\n",
       "      <td>318.99</td>\n",
       "    </tr>\n",
       "    <tr>\n",
       "      <th>...</th>\n",
       "      <td>...</td>\n",
       "    </tr>\n",
       "    <tr>\n",
       "      <th>2020-01-01</th>\n",
       "      <td>414.21</td>\n",
       "    </tr>\n",
       "    <tr>\n",
       "      <th>2021-01-01</th>\n",
       "      <td>416.41</td>\n",
       "    </tr>\n",
       "    <tr>\n",
       "      <th>2022-01-01</th>\n",
       "      <td>418.53</td>\n",
       "    </tr>\n",
       "    <tr>\n",
       "      <th>2023-01-01</th>\n",
       "      <td>421.08</td>\n",
       "    </tr>\n",
       "    <tr>\n",
       "      <th>2024-01-01</th>\n",
       "      <td>424.61</td>\n",
       "    </tr>\n",
       "  </tbody>\n",
       "</table>\n",
       "<p>66 rows × 1 columns</p>\n",
       "</div>"
      ],
      "text/plain": [
       "               CO2\n",
       "Year              \n",
       "1959-01-01  315.98\n",
       "1960-01-01  316.91\n",
       "1961-01-01  317.64\n",
       "1962-01-01  318.45\n",
       "1963-01-01  318.99\n",
       "...            ...\n",
       "2020-01-01  414.21\n",
       "2021-01-01  416.41\n",
       "2022-01-01  418.53\n",
       "2023-01-01  421.08\n",
       "2024-01-01  424.61\n",
       "\n",
       "[66 rows x 1 columns]"
      ]
     },
     "execution_count": 8,
     "metadata": {},
     "output_type": "execute_result"
    }
   ],
   "source": [
    "obs_1959_2024 = pd.read_csv(os.path.join(data_dir, data_1959_2024), sep='\\s+', skiprows=44)\n",
    "\n",
    "obs_1959_2024.rename(columns={'year':'Year','mean':'CO2'}, inplace=True)\n",
    "obs_1959_2024.drop(columns='unc', inplace=True)\n",
    "\n",
    "obs_1959_2024['Year'] = pd.to_datetime(obs_1959_2024['Year'],  format=\"%Y\")\n",
    "obs_1959_2024.set_index('Year', inplace=True)\n",
    "\n",
    "obs_1959_2024"
   ]
  },
  {
   "cell_type": "markdown",
   "id": "7b3b159b-4f97-4fe9-8749-6af333994105",
   "metadata": {},
   "source": [
    "### Plot the data"
   ]
  },
  {
   "cell_type": "code",
   "execution_count": 9,
   "id": "662b6869-e755-4db3-968e-6b53da54809a",
   "metadata": {
    "execution": {
     "iopub.execute_input": "2025-04-08T18:29:10.391683Z",
     "iopub.status.busy": "2025-04-08T18:29:10.390438Z",
     "iopub.status.idle": "2025-04-08T18:29:10.409666Z",
     "shell.execute_reply": "2025-04-08T18:29:10.408560Z",
     "shell.execute_reply.started": "2025-04-08T18:29:10.391628Z"
    }
   },
   "outputs": [],
   "source": [
    "start_obs2 = obs_1959_2024.index.min()\n",
    "end_obs2 = obs_1959_2024.index.max()"
   ]
  },
  {
   "cell_type": "code",
   "execution_count": 10,
   "id": "e9df90fd-8b39-4671-8f89-fc8daddb6f3c",
   "metadata": {
    "execution": {
     "iopub.execute_input": "2025-04-08T18:29:10.412153Z",
     "iopub.status.busy": "2025-04-08T18:29:10.411216Z",
     "iopub.status.idle": "2025-04-08T18:29:10.892966Z",
     "shell.execute_reply": "2025-04-08T18:29:10.891759Z",
     "shell.execute_reply.started": "2025-04-08T18:29:10.412097Z"
    }
   },
   "outputs": [
    {
     "data": {
      "image/png": "[encoded data removed]",
      "text/plain": [
       "<Figure size 1400x600 with 1 Axes>"
      ]
     },
     "metadata": {},
     "output_type": "display_data"
    }
   ],
   "source": [
    "fig = plt.figure(figsize=(14,6))\n",
    "\n",
    "ax = plt.plot(obs_1850_2011.index, obs_1850_2011['CO2'], label='obs 1850-2011')\n",
    "ax = plt.plot(obs_1959_2024.index, obs_1959_2024['CO2'], label='obs 1959-2024')\n",
    "\n",
    "ax = plt.plot(fcst_weak.index, fcst_weak['CO2'], label='fcst weak scenario')\n",
    "ax = plt.plot(fcst_mod.index, fcst_mod['CO2'], label='fcst mod scenario')\n",
    "ax = plt.plot(fcst_high.index, fcst_high['CO2'], label='fcst high scenario')\n",
    "ax = plt.plot(fcst_xtrm.index, fcst_xtrm['CO2'], label='fcst xtrm scenario')\n",
    "\n",
    "plt.title('CO2 annual mean concentration (ppm)')\n",
    "\n",
    "plt.legend()\n",
    "\n",
    "plt.show()"
   ]
  },
  {
   "cell_type": "code",
   "execution_count": 11,
   "id": "a3d67e9f-f62b-48d3-a44e-6fbe88ec2f55",
   "metadata": {
    "execution": {
     "iopub.execute_input": "2025-04-08T18:29:10.894558Z",
     "iopub.status.busy": "2025-04-08T18:29:10.894046Z",
     "iopub.status.idle": "2025-04-08T18:29:11.294125Z",
     "shell.execute_reply": "2025-04-08T18:29:11.292922Z",
     "shell.execute_reply.started": "2025-04-08T18:29:10.894513Z"
    }
   },
   "outputs": [
    {
     "data": {
      "image/png": "[encoded data removed]",
      "text/plain": [
       "<Figure size 1400x600 with 1 Axes>"
      ]
     },
     "metadata": {},
     "output_type": "display_data"
    }
   ],
   "source": [
    "fig = plt.figure(figsize=(14,6))\n",
    "\n",
    "\n",
    "ax = plt.plot(fcst_weak.index, fcst_weak['CO2'], label='fcst weak scenario')\n",
    "ax = plt.plot(fcst_mod.index, fcst_mod['CO2'], label='fcst mod scenario')\n",
    "ax = plt.plot(fcst_high.index, fcst_high['CO2'], label='fcst high scenario')\n",
    "#ax = plt.plot(fcst_xtrm.index, fcst_xtrm['CO2'], label='fcst xtrm scenario')\n",
    "\n",
    "ax = plt.plot(obs_1850_2011.index, obs_1850_2011['CO2'], label='obs 1850-2011')\n",
    "ax = plt.plot(obs_1959_2024.index, obs_1959_2024['CO2'], label='obs 1959-2024')\n",
    "\n",
    "plt.title('CO2 annual mean concentration (ppm)')\n",
    "\n",
    "plt.legend()\n",
    "\n",
    "plt.show()"
   ]
  },
  {
   "cell_type": "markdown",
   "id": "cbb0cc49-24e7-4a31-91f5-9ea0b00d7259",
   "metadata": {},
   "source": [
    "### Adjust forecast dataset to have the same concentration as observation for year 2024"
   ]
  },
  {
   "cell_type": "code",
   "execution_count": 12,
   "id": "a3c32ebb-fb43-4aca-a495-578079fc2ab5",
   "metadata": {
    "execution": {
     "iopub.execute_input": "2025-04-08T18:29:11.295579Z",
     "iopub.status.busy": "2025-04-08T18:29:11.295200Z",
     "iopub.status.idle": "2025-04-08T18:29:11.694947Z",
     "shell.execute_reply": "2025-04-08T18:29:11.692355Z",
     "shell.execute_reply.started": "2025-04-08T18:29:11.295547Z"
    }
   },
   "outputs": [
    {
     "data": {
      "text/html": [
       "<div>\n",
       "<style scoped>\n",
       "    .dataframe tbody tr th:only-of-type {\n",
       "        vertical-align: middle;\n",
       "    }\n",
       "\n",
       "    .dataframe tbody tr th {\n",
       "        vertical-align: top;\n",
       "    }\n",
       "\n",
       "    .dataframe thead th {\n",
       "        text-align: right;\n",
       "    }\n",
       "</style>\n",
       "<table border=\"1\" class=\"dataframe\">\n",
       "  <thead>\n",
       "    <tr style=\"text-align: right;\">\n",
       "      <th></th>\n",
       "      <th>CO2</th>\n",
       "    </tr>\n",
       "    <tr>\n",
       "      <th>Year</th>\n",
       "      <th></th>\n",
       "    </tr>\n",
       "  </thead>\n",
       "  <tbody>\n",
       "    <tr>\n",
       "      <th>2024-01-01</th>\n",
       "      <td>424.610000</td>\n",
       "    </tr>\n",
       "    <tr>\n",
       "      <th>2025-01-01</th>\n",
       "      <td>427.203571</td>\n",
       "    </tr>\n",
       "    <tr>\n",
       "      <th>2026-01-01</th>\n",
       "      <td>429.732422</td>\n",
       "    </tr>\n",
       "    <tr>\n",
       "      <th>2027-01-01</th>\n",
       "      <td>432.203718</td>\n",
       "    </tr>\n",
       "    <tr>\n",
       "      <th>2028-01-01</th>\n",
       "      <td>434.617458</td>\n",
       "    </tr>\n",
       "    <tr>\n",
       "      <th>...</th>\n",
       "      <td>...</td>\n",
       "    </tr>\n",
       "    <tr>\n",
       "      <th>2095-01-01</th>\n",
       "      <td>480.464020</td>\n",
       "    </tr>\n",
       "    <tr>\n",
       "      <th>2096-01-01</th>\n",
       "      <td>479.184021</td>\n",
       "    </tr>\n",
       "    <tr>\n",
       "      <th>2097-01-01</th>\n",
       "      <td>477.835022</td>\n",
       "    </tr>\n",
       "    <tr>\n",
       "      <th>2098-01-01</th>\n",
       "      <td>476.418030</td>\n",
       "    </tr>\n",
       "    <tr>\n",
       "      <th>2099-01-01</th>\n",
       "      <td>474.933014</td>\n",
       "    </tr>\n",
       "  </tbody>\n",
       "</table>\n",
       "<p>76 rows × 1 columns</p>\n",
       "</div>"
      ],
      "text/plain": [
       "                   CO2\n",
       "Year                  \n",
       "2024-01-01  424.610000\n",
       "2025-01-01  427.203571\n",
       "2026-01-01  429.732422\n",
       "2027-01-01  432.203718\n",
       "2028-01-01  434.617458\n",
       "...                ...\n",
       "2095-01-01  480.464020\n",
       "2096-01-01  479.184021\n",
       "2097-01-01  477.835022\n",
       "2098-01-01  476.418030\n",
       "2099-01-01  474.933014\n",
       "\n",
       "[76 rows x 1 columns]"
      ]
     },
     "execution_count": 12,
     "metadata": {},
     "output_type": "execute_result"
    }
   ],
   "source": [
    "fcst_weak = pd.concat([ obs_1959_2024.iloc[-1:], fcst_weak[fcst_weak.index >= pd.to_datetime(start_year_fcst, format='%Y')]])\n",
    "fcst_weak = fcst_weak.resample('YS').interpolate(method='polynomial', order=2)\n",
    "fcst_weak"
   ]
  },
  {
   "cell_type": "code",
   "execution_count": 13,
   "id": "5c1c5478-5466-4983-8fec-0bbf00956068",
   "metadata": {
    "execution": {
     "iopub.execute_input": "2025-04-08T18:29:11.697657Z",
     "iopub.status.busy": "2025-04-08T18:29:11.696910Z",
     "iopub.status.idle": "2025-04-08T18:29:11.725029Z",
     "shell.execute_reply": "2025-04-08T18:29:11.722560Z",
     "shell.execute_reply.started": "2025-04-08T18:29:11.697612Z"
    }
   },
   "outputs": [
    {
     "data": {
      "text/html": [
       "<div>\n",
       "<style scoped>\n",
       "    .dataframe tbody tr th:only-of-type {\n",
       "        vertical-align: middle;\n",
       "    }\n",
       "\n",
       "    .dataframe tbody tr th {\n",
       "        vertical-align: top;\n",
       "    }\n",
       "\n",
       "    .dataframe thead th {\n",
       "        text-align: right;\n",
       "    }\n",
       "</style>\n",
       "<table border=\"1\" class=\"dataframe\">\n",
       "  <thead>\n",
       "    <tr style=\"text-align: right;\">\n",
       "      <th></th>\n",
       "      <th>CO2</th>\n",
       "    </tr>\n",
       "    <tr>\n",
       "      <th>Year</th>\n",
       "      <th></th>\n",
       "    </tr>\n",
       "  </thead>\n",
       "  <tbody>\n",
       "    <tr>\n",
       "      <th>2024-01-01</th>\n",
       "      <td>424.610000</td>\n",
       "    </tr>\n",
       "    <tr>\n",
       "      <th>2025-01-01</th>\n",
       "      <td>427.796644</td>\n",
       "    </tr>\n",
       "    <tr>\n",
       "      <th>2026-01-01</th>\n",
       "      <td>430.973283</td>\n",
       "    </tr>\n",
       "    <tr>\n",
       "      <th>2027-01-01</th>\n",
       "      <td>434.148624</td>\n",
       "    </tr>\n",
       "    <tr>\n",
       "      <th>2028-01-01</th>\n",
       "      <td>437.322668</td>\n",
       "    </tr>\n",
       "    <tr>\n",
       "      <th>...</th>\n",
       "      <td>...</td>\n",
       "    </tr>\n",
       "    <tr>\n",
       "      <th>2095-01-01</th>\n",
       "      <td>600.885986</td>\n",
       "    </tr>\n",
       "    <tr>\n",
       "      <th>2096-01-01</th>\n",
       "      <td>601.365967</td>\n",
       "    </tr>\n",
       "    <tr>\n",
       "      <th>2097-01-01</th>\n",
       "      <td>601.796997</td>\n",
       "    </tr>\n",
       "    <tr>\n",
       "      <th>2098-01-01</th>\n",
       "      <td>602.177002</td>\n",
       "    </tr>\n",
       "    <tr>\n",
       "      <th>2099-01-01</th>\n",
       "      <td>602.505005</td>\n",
       "    </tr>\n",
       "  </tbody>\n",
       "</table>\n",
       "<p>76 rows × 1 columns</p>\n",
       "</div>"
      ],
      "text/plain": [
       "                   CO2\n",
       "Year                  \n",
       "2024-01-01  424.610000\n",
       "2025-01-01  427.796644\n",
       "2026-01-01  430.973283\n",
       "2027-01-01  434.148624\n",
       "2028-01-01  437.322668\n",
       "...                ...\n",
       "2095-01-01  600.885986\n",
       "2096-01-01  601.365967\n",
       "2097-01-01  601.796997\n",
       "2098-01-01  602.177002\n",
       "2099-01-01  602.505005\n",
       "\n",
       "[76 rows x 1 columns]"
      ]
     },
     "execution_count": 13,
     "metadata": {},
     "output_type": "execute_result"
    }
   ],
   "source": [
    "fcst_mod = pd.concat([ obs_1959_2024.iloc[-1:], fcst_mod[fcst_mod.index >= pd.to_datetime(start_year_fcst, format='%Y')]])\n",
    "fcst_mod = fcst_mod.resample('YS').interpolate(method='polynomial', order=2)\n",
    "fcst_mod"
   ]
  },
  {
   "cell_type": "code",
   "execution_count": 14,
   "id": "3e3141b1-a855-43e1-a135-eabf0dc9554e",
   "metadata": {
    "execution": {
     "iopub.execute_input": "2025-04-08T18:29:11.727119Z",
     "iopub.status.busy": "2025-04-08T18:29:11.726621Z",
     "iopub.status.idle": "2025-04-08T18:29:11.772960Z",
     "shell.execute_reply": "2025-04-08T18:29:11.770680Z",
     "shell.execute_reply.started": "2025-04-08T18:29:11.727077Z"
    }
   },
   "outputs": [
    {
     "data": {
      "text/html": [
       "<div>\n",
       "<style scoped>\n",
       "    .dataframe tbody tr th:only-of-type {\n",
       "        vertical-align: middle;\n",
       "    }\n",
       "\n",
       "    .dataframe tbody tr th {\n",
       "        vertical-align: top;\n",
       "    }\n",
       "\n",
       "    .dataframe thead th {\n",
       "        text-align: right;\n",
       "    }\n",
       "</style>\n",
       "<table border=\"1\" class=\"dataframe\">\n",
       "  <thead>\n",
       "    <tr style=\"text-align: right;\">\n",
       "      <th></th>\n",
       "      <th>CO2</th>\n",
       "    </tr>\n",
       "    <tr>\n",
       "      <th>Year</th>\n",
       "      <th></th>\n",
       "    </tr>\n",
       "  </thead>\n",
       "  <tbody>\n",
       "    <tr>\n",
       "      <th>2024-01-01</th>\n",
       "      <td>424.610000</td>\n",
       "    </tr>\n",
       "    <tr>\n",
       "      <th>2025-01-01</th>\n",
       "      <td>427.769167</td>\n",
       "    </tr>\n",
       "    <tr>\n",
       "      <th>2026-01-01</th>\n",
       "      <td>430.950239</td>\n",
       "    </tr>\n",
       "    <tr>\n",
       "      <th>2027-01-01</th>\n",
       "      <td>434.161805</td>\n",
       "    </tr>\n",
       "    <tr>\n",
       "      <th>2028-01-01</th>\n",
       "      <td>437.403866</td>\n",
       "    </tr>\n",
       "    <tr>\n",
       "      <th>...</th>\n",
       "      <td>...</td>\n",
       "    </tr>\n",
       "    <tr>\n",
       "      <th>2095-01-01</th>\n",
       "      <td>659.567993</td>\n",
       "    </tr>\n",
       "    <tr>\n",
       "      <th>2096-01-01</th>\n",
       "      <td>661.474976</td>\n",
       "    </tr>\n",
       "    <tr>\n",
       "      <th>2097-01-01</th>\n",
       "      <td>663.311951</td>\n",
       "    </tr>\n",
       "    <tr>\n",
       "      <th>2098-01-01</th>\n",
       "      <td>665.078979</td>\n",
       "    </tr>\n",
       "    <tr>\n",
       "      <th>2099-01-01</th>\n",
       "      <td>666.776978</td>\n",
       "    </tr>\n",
       "  </tbody>\n",
       "</table>\n",
       "<p>76 rows × 1 columns</p>\n",
       "</div>"
      ],
      "text/plain": [
       "                   CO2\n",
       "Year                  \n",
       "2024-01-01  424.610000\n",
       "2025-01-01  427.769167\n",
       "2026-01-01  430.950239\n",
       "2027-01-01  434.161805\n",
       "2028-01-01  437.403866\n",
       "...                ...\n",
       "2095-01-01  659.567993\n",
       "2096-01-01  661.474976\n",
       "2097-01-01  663.311951\n",
       "2098-01-01  665.078979\n",
       "2099-01-01  666.776978\n",
       "\n",
       "[76 rows x 1 columns]"
      ]
     },
     "execution_count": 14,
     "metadata": {},
     "output_type": "execute_result"
    }
   ],
   "source": [
    "fcst_high = pd.concat([ obs_1959_2024.iloc[-1:], fcst_high[fcst_high.index >= pd.to_datetime(start_year_fcst, format='%Y')]])\n",
    "fcst_high = fcst_high.resample('YS').interpolate(method='polynomial', order=2)\n",
    "fcst_high"
   ]
  },
  {
   "cell_type": "code",
   "execution_count": 15,
   "id": "8b256971-696e-446c-90bf-a0841aa0e7f4",
   "metadata": {
    "execution": {
     "iopub.execute_input": "2025-04-08T18:29:11.774970Z",
     "iopub.status.busy": "2025-04-08T18:29:11.774541Z",
     "iopub.status.idle": "2025-04-08T18:29:11.806589Z",
     "shell.execute_reply": "2025-04-08T18:29:11.805142Z",
     "shell.execute_reply.started": "2025-04-08T18:29:11.774938Z"
    }
   },
   "outputs": [
    {
     "data": {
      "text/html": [
       "<div>\n",
       "<style scoped>\n",
       "    .dataframe tbody tr th:only-of-type {\n",
       "        vertical-align: middle;\n",
       "    }\n",
       "\n",
       "    .dataframe tbody tr th {\n",
       "        vertical-align: top;\n",
       "    }\n",
       "\n",
       "    .dataframe thead th {\n",
       "        text-align: right;\n",
       "    }\n",
       "</style>\n",
       "<table border=\"1\" class=\"dataframe\">\n",
       "  <thead>\n",
       "    <tr style=\"text-align: right;\">\n",
       "      <th></th>\n",
       "      <th>CO2</th>\n",
       "    </tr>\n",
       "    <tr>\n",
       "      <th>Year</th>\n",
       "      <th></th>\n",
       "    </tr>\n",
       "  </thead>\n",
       "  <tbody>\n",
       "    <tr>\n",
       "      <th>2024-01-01</th>\n",
       "      <td>424.610000</td>\n",
       "    </tr>\n",
       "    <tr>\n",
       "      <th>2025-01-01</th>\n",
       "      <td>428.576492</td>\n",
       "    </tr>\n",
       "    <tr>\n",
       "      <th>2026-01-01</th>\n",
       "      <td>432.632785</td>\n",
       "    </tr>\n",
       "    <tr>\n",
       "      <th>2027-01-01</th>\n",
       "      <td>436.789581</td>\n",
       "    </tr>\n",
       "    <tr>\n",
       "      <th>2028-01-01</th>\n",
       "      <td>441.046879</td>\n",
       "    </tr>\n",
       "    <tr>\n",
       "      <th>...</th>\n",
       "      <td>...</td>\n",
       "    </tr>\n",
       "    <tr>\n",
       "      <th>2095-01-01</th>\n",
       "      <td>1066.849854</td>\n",
       "    </tr>\n",
       "    <tr>\n",
       "      <th>2096-01-01</th>\n",
       "      <td>1080.529907</td>\n",
       "    </tr>\n",
       "    <tr>\n",
       "      <th>2097-01-01</th>\n",
       "      <td>1094.209839</td>\n",
       "    </tr>\n",
       "    <tr>\n",
       "      <th>2098-01-01</th>\n",
       "      <td>1107.889893</td>\n",
       "    </tr>\n",
       "    <tr>\n",
       "      <th>2099-01-01</th>\n",
       "      <td>1121.549927</td>\n",
       "    </tr>\n",
       "  </tbody>\n",
       "</table>\n",
       "<p>76 rows × 1 columns</p>\n",
       "</div>"
      ],
      "text/plain": [
       "                    CO2\n",
       "Year                   \n",
       "2024-01-01   424.610000\n",
       "2025-01-01   428.576492\n",
       "2026-01-01   432.632785\n",
       "2027-01-01   436.789581\n",
       "2028-01-01   441.046879\n",
       "...                 ...\n",
       "2095-01-01  1066.849854\n",
       "2096-01-01  1080.529907\n",
       "2097-01-01  1094.209839\n",
       "2098-01-01  1107.889893\n",
       "2099-01-01  1121.549927\n",
       "\n",
       "[76 rows x 1 columns]"
      ]
     },
     "execution_count": 15,
     "metadata": {},
     "output_type": "execute_result"
    }
   ],
   "source": [
    "fcst_xtrm = pd.concat([ obs_1959_2024.iloc[-1:], fcst_xtrm[fcst_xtrm.index >= pd.to_datetime(start_year_fcst, format='%Y')]])\n",
    "fcst_xtrm = fcst_xtrm.resample('YS').interpolate(method='polynomial', order=2)\n",
    "fcst_xtrm"
   ]
  },
  {
   "cell_type": "code",
   "execution_count": 16,
   "id": "0376b831-f41a-4a12-a42f-69975752c5f7",
   "metadata": {
    "execution": {
     "iopub.execute_input": "2025-04-08T18:29:11.808709Z",
     "iopub.status.busy": "2025-04-08T18:29:11.808100Z",
     "iopub.status.idle": "2025-04-08T18:29:12.229742Z",
     "shell.execute_reply": "2025-04-08T18:29:12.228381Z",
     "shell.execute_reply.started": "2025-04-08T18:29:11.808659Z"
    }
   },
   "outputs": [
    {
     "data": {
      "image/png": "[encoded data removed]",
      "text/plain": [
       "<Figure size 1400x600 with 1 Axes>"
      ]
     },
     "metadata": {},
     "output_type": "display_data"
    }
   ],
   "source": [
    "fig = plt.figure(figsize=(14,6))\n",
    "\n",
    "ax = plt.plot(obs_1850_2011.index, obs_1850_2011['CO2'], label='obs 1850-2011')\n",
    "ax = plt.plot(obs_1959_2024.index, obs_1959_2024['CO2'], label='obs 1959-2024')\n",
    "\n",
    "ax = plt.plot(fcst_weak.index, fcst_weak['CO2'], label='fcst weak scenario')\n",
    "ax = plt.plot(fcst_mod.index, fcst_mod['CO2'], label='fcst mod scenario')\n",
    "ax = plt.plot(fcst_high.index, fcst_high['CO2'], label='fcst high scenario')\n",
    "#ax = plt.plot(fcst_xtrm.index, fcst_xtrm['CO2'], label='fcst xtrm scenario')\n",
    "\n",
    "plt.title('CO2 annual mean concentration (ppm)')\n",
    "\n",
    "plt.legend()\n",
    "\n",
    "plt.show()"
   ]
  },
  {
   "cell_type": "markdown",
   "id": "0c465800-2195-4910-97c8-e606f0cff546",
   "metadata": {},
   "source": [
    "### Create dataframe that contains the observation from 1850 to 2024"
   ]
  },
  {
   "cell_type": "code",
   "execution_count": 17,
   "id": "35347808-685f-48fd-8bf3-05862b4a2973",
   "metadata": {
    "execution": {
     "iopub.execute_input": "2025-04-08T18:29:12.231578Z",
     "iopub.status.busy": "2025-04-08T18:29:12.231087Z",
     "iopub.status.idle": "2025-04-08T18:29:12.250223Z",
     "shell.execute_reply": "2025-04-08T18:29:12.247968Z",
     "shell.execute_reply.started": "2025-04-08T18:29:12.231548Z"
    }
   },
   "outputs": [
    {
     "data": {
      "text/html": [
       "<div>\n",
       "<style scoped>\n",
       "    .dataframe tbody tr th:only-of-type {\n",
       "        vertical-align: middle;\n",
       "    }\n",
       "\n",
       "    .dataframe tbody tr th {\n",
       "        vertical-align: top;\n",
       "    }\n",
       "\n",
       "    .dataframe thead th {\n",
       "        text-align: right;\n",
       "    }\n",
       "</style>\n",
       "<table border=\"1\" class=\"dataframe\">\n",
       "  <thead>\n",
       "    <tr style=\"text-align: right;\">\n",
       "      <th></th>\n",
       "      <th>Data Source</th>\n",
       "      <th>CO2</th>\n",
       "    </tr>\n",
       "    <tr>\n",
       "      <th>Year</th>\n",
       "      <th></th>\n",
       "      <th></th>\n",
       "    </tr>\n",
       "  </thead>\n",
       "  <tbody>\n",
       "    <tr>\n",
       "      <th>1850-01-01</th>\n",
       "      <td>Ice-Core Data Adjusted for Global Mean</td>\n",
       "      <td>285.20</td>\n",
       "    </tr>\n",
       "    <tr>\n",
       "      <th>1851-01-01</th>\n",
       "      <td>Ice-Core Data Adjusted for Global Mean</td>\n",
       "      <td>285.10</td>\n",
       "    </tr>\n",
       "    <tr>\n",
       "      <th>1852-01-01</th>\n",
       "      <td>Ice-Core Data Adjusted for Global Mean</td>\n",
       "      <td>285.00</td>\n",
       "    </tr>\n",
       "    <tr>\n",
       "      <th>1853-01-01</th>\n",
       "      <td>Ice-Core Data Adjusted for Global Mean</td>\n",
       "      <td>285.00</td>\n",
       "    </tr>\n",
       "    <tr>\n",
       "      <th>1854-01-01</th>\n",
       "      <td>Ice-Core Data Adjusted for Global Mean</td>\n",
       "      <td>284.90</td>\n",
       "    </tr>\n",
       "    <tr>\n",
       "      <th>...</th>\n",
       "      <td>...</td>\n",
       "      <td>...</td>\n",
       "    </tr>\n",
       "    <tr>\n",
       "      <th>2020-01-01</th>\n",
       "      <td>NaN</td>\n",
       "      <td>414.21</td>\n",
       "    </tr>\n",
       "    <tr>\n",
       "      <th>2021-01-01</th>\n",
       "      <td>NaN</td>\n",
       "      <td>416.41</td>\n",
       "    </tr>\n",
       "    <tr>\n",
       "      <th>2022-01-01</th>\n",
       "      <td>NaN</td>\n",
       "      <td>418.53</td>\n",
       "    </tr>\n",
       "    <tr>\n",
       "      <th>2023-01-01</th>\n",
       "      <td>NaN</td>\n",
       "      <td>421.08</td>\n",
       "    </tr>\n",
       "    <tr>\n",
       "      <th>2024-01-01</th>\n",
       "      <td>NaN</td>\n",
       "      <td>424.61</td>\n",
       "    </tr>\n",
       "  </tbody>\n",
       "</table>\n",
       "<p>175 rows × 2 columns</p>\n",
       "</div>"
      ],
      "text/plain": [
       "                                       Data Source     CO2\n",
       "Year                                                      \n",
       "1850-01-01  Ice-Core Data Adjusted for Global Mean  285.20\n",
       "1851-01-01  Ice-Core Data Adjusted for Global Mean  285.10\n",
       "1852-01-01  Ice-Core Data Adjusted for Global Mean  285.00\n",
       "1853-01-01  Ice-Core Data Adjusted for Global Mean  285.00\n",
       "1854-01-01  Ice-Core Data Adjusted for Global Mean  284.90\n",
       "...                                            ...     ...\n",
       "2020-01-01                                     NaN  414.21\n",
       "2021-01-01                                     NaN  416.41\n",
       "2022-01-01                                     NaN  418.53\n",
       "2023-01-01                                     NaN  421.08\n",
       "2024-01-01                                     NaN  424.61\n",
       "\n",
       "[175 rows x 2 columns]"
      ]
     },
     "execution_count": 17,
     "metadata": {},
     "output_type": "execute_result"
    }
   ],
   "source": [
    "obs_df = pd.concat([obs_1850_2011[obs_1850_2011.index < start_obs2], obs_1959_2024])\n",
    "obs_df"
   ]
  },
  {
   "cell_type": "markdown",
   "id": "3cc8e8df-df5f-4a38-b7a3-0b6281928351",
   "metadata": {},
   "source": [
    "### Looking if there is missing values"
   ]
  },
  {
   "cell_type": "code",
   "execution_count": 18,
   "id": "fb76a28d-9ce2-4ae3-94f1-36b216b7da2b",
   "metadata": {
    "execution": {
     "iopub.execute_input": "2025-04-08T18:29:12.255269Z",
     "iopub.status.busy": "2025-04-08T18:29:12.251796Z",
     "iopub.status.idle": "2025-04-08T18:29:12.271966Z",
     "shell.execute_reply": "2025-04-08T18:29:12.270491Z",
     "shell.execute_reply.started": "2025-04-08T18:29:12.255201Z"
    }
   },
   "outputs": [
    {
     "data": {
      "text/plain": [
       "Data Source    66\n",
       "CO2             0\n",
       "dtype: int64"
      ]
     },
     "execution_count": 18,
     "metadata": {},
     "output_type": "execute_result"
    }
   ],
   "source": [
    "obs_df.isna().sum()"
   ]
  },
  {
   "cell_type": "markdown",
   "id": "10b519ef-2c12-4896-864b-2b4939a55cdf",
   "metadata": {},
   "source": [
    "### Creating a dataframe that contains observations and the forecast data"
   ]
  },
  {
   "cell_type": "code",
   "execution_count": 19,
   "id": "d4cb169b-bc5d-40b6-8112-a4b13d4d4def",
   "metadata": {
    "execution": {
     "iopub.execute_input": "2025-04-08T18:29:12.273726Z",
     "iopub.status.busy": "2025-04-08T18:29:12.273167Z",
     "iopub.status.idle": "2025-04-08T18:29:12.303094Z",
     "shell.execute_reply": "2025-04-08T18:29:12.301184Z",
     "shell.execute_reply.started": "2025-04-08T18:29:12.273686Z"
    }
   },
   "outputs": [],
   "source": [
    "full_weak_df = pd.concat([obs_df, fcst_weak[fcst_weak.index > end_obs2]])\n",
    "full_mod_df = pd.concat([obs_df, fcst_mod[fcst_mod.index > end_obs2]])\n",
    "full_high_df = pd.concat([obs_df, fcst_high[fcst_high.index > end_obs2]])\n",
    "full_xtrm_df = pd.concat([obs_df, fcst_xtrm[fcst_xtrm.index > end_obs2]])"
   ]
  },
  {
   "cell_type": "code",
   "execution_count": 20,
   "id": "b0db323d-20f0-4989-86b7-5e68fe44a70e",
   "metadata": {
    "execution": {
     "iopub.execute_input": "2025-04-08T18:29:12.304597Z",
     "iopub.status.busy": "2025-04-08T18:29:12.304259Z",
     "iopub.status.idle": "2025-04-08T18:29:12.764624Z",
     "shell.execute_reply": "2025-04-08T18:29:12.762894Z",
     "shell.execute_reply.started": "2025-04-08T18:29:12.304568Z"
    }
   },
   "outputs": [
    {
     "data": {
      "image/png": "[encoded data removed]",
      "text/plain": [
       "<Figure size 1400x600 with 1 Axes>"
      ]
     },
     "metadata": {},
     "output_type": "display_data"
    }
   ],
   "source": [
    "fig = plt.figure(figsize=(14,6))\n",
    "\n",
    "ax = plt.plot(obs_1850_2011.index, obs_1850_2011['CO2'], label='obs 1850-2011')\n",
    "ax = plt.plot(obs_1959_2024.index, obs_1959_2024['CO2'], label='obs 1959-2024')\n",
    "ax = plt.plot(obs_df.index, obs_df['CO2'], label='obs 1850-2011')\n",
    "\n",
    "ax = plt.plot(fcst_weak.index, fcst_weak['CO2'], label='fcst weak scenario')\n",
    "ax = plt.plot(fcst_mod.index, fcst_mod['CO2'], label='fcst mod scenario')\n",
    "ax = plt.plot(fcst_high.index, fcst_high['CO2'], label='fcst high scenario')\n",
    "#ax = plt.plot(fcst_xtrm.index, fcst_xtrm['CO2'], label='fcst xtrm scenario')\n",
    "\n",
    "ax = plt.plot(full_weak_df.index, full_weak_df['CO2'], label='obs + fcst weak scenario')\n",
    "ax = plt.plot(full_mod_df.index, full_mod_df['CO2'], label='obs + fcst mod scenario')\n",
    "ax = plt.plot(full_high_df.index, full_high_df['CO2'], label='obs + fcst high scenario')\n",
    "ax = plt.plot(full_xtrm_df.index, full_xtrm_df['CO2'], label='obs + fcst xtrm scenario')\n",
    "\n",
    "plt.title('CO2 annual mean concentration (ppm)')\n",
    "\n",
    "plt.legend()\n",
    "\n",
    "plt.show()"
   ]
  },
  {
   "cell_type": "markdown",
   "id": "682969dd-8788-462b-8fed-ee31ded22a9a",
   "metadata": {},
   "source": [
    "### Write data to file"
   ]
  },
  {
   "cell_type": "code",
   "execution_count": 21,
   "id": "e3af0d56-bdcf-481e-89ab-d18fdf34e62d",
   "metadata": {
    "execution": {
     "iopub.execute_input": "2025-04-08T18:29:12.770144Z",
     "iopub.status.busy": "2025-04-08T18:29:12.769525Z",
     "iopub.status.idle": "2025-04-08T18:29:12.789155Z",
     "shell.execute_reply": "2025-04-08T18:29:12.787655Z",
     "shell.execute_reply.started": "2025-04-08T18:29:12.770093Z"
    }
   },
   "outputs": [],
   "source": [
    "full_weak_df.to_csv(os.path.join(out_dir, file_out_weak))\n",
    "full_mod_df.to_csv(os.path.join(out_dir, file_out_mod))\n",
    "full_high_df.to_csv(os.path.join(out_dir, file_out_high))\n",
    "full_xtrm_df.to_csv(os.path.join(out_dir, file_out_xtrm))"
   ]
  }
 ],
 "metadata": {
  "kernelspec": {
   "display_name": "climate-proj",
   "language": "python",
   "name": "climate-proj"
  },
  "language_info": {
   "codemirror_mode": {
    "name": "ipython",
    "version": 3
   },
   "file_extension": ".py",
   "mimetype": "text/x-python",
   "name": "python",
   "nbconvert_exporter": "python",
   "pygments_lexer": "ipython3",
   "version": "3.12.7"
  }
 },
 "nbformat": 4,
 "nbformat_minor": 5
}
